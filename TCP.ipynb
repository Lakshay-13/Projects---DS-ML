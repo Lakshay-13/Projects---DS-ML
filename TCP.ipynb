{
 "cells": [
  {
   "cell_type": "code",
   "execution_count": 1,
   "metadata": {},
   "outputs": [],
   "source": [
    "#importing Various required libraries\n",
    "import numpy as np\n",
    "import pandas as pd\n",
    "import operator\n",
    "import os\n",
    "import sys\n",
    "from sklearn import model_selection\n",
    "import re\n",
    "import string\n",
    "import matplotlib.pyplot as plt\n",
    "from sklearn.naive_bayes import MultinomialNB\n",
    "from sklearn.metrics import classification_report,confusion_matrix,accuracy_score"
   ]
  },
  {
   "cell_type": "code",
   "execution_count": 2,
   "metadata": {},
   "outputs": [],
   "source": [
    "#stopwords list taken from intenet.\n",
    "stopwords = ['a', 'about', 'above', 'across', 'after', 'afterwards', 'again', 'against', 'all', 'almost', 'alone',\n",
    "             'along', 'already', 'also', 'although', 'always', 'am', 'among', 'amongst', 'amoungst', 'amount',\n",
    "             'an', 'and', 'another', 'any', 'anyhow', 'anyone', 'anything', 'anyway', 'anywhere', 'are', 'around',\n",
    "             'as', 'at', 'back', 'be', 'became', 'because', 'become', 'becomes', 'becoming', 'been', 'before',\n",
    "             'beforehand', 'behind', 'being', 'below', 'beside', 'besides', 'between', 'beyond', 'bill', 'both',\n",
    "             'bottom', 'but', 'by', 'call', 'can', 'cannot', 'cant', 'co', 'con', 'could', 'couldnt', 'cry', 'de',\n",
    "             'describe', 'detail', 'did', 'do', 'does', 'doing', 'don', 'done', 'down', 'due', 'during', 'each', 'eg',\n",
    "             'eight', 'either', 'eleven', 'else', 'elsewhere', 'empty', 'enough', 'etc', 'even', 'ever', 'every', 'everyone',\n",
    "             'everything', 'everywhere', 'except', 'few', 'fifteen', 'fify', 'fill', 'find', 'fire', 'first', 'five', 'for',\n",
    "             'former', 'formerly', 'forty', 'found', 'four', 'from', 'front', 'full', 'further', 'get', 'give', 'go', 'had',\n",
    "             'has', 'hasnt', 'have', 'having', 'he', 'hence', 'her', 'here', 'hereafter', 'hereby', 'herein', 'hereupon',\n",
    "             'hers', 'herself', 'him', 'himself', 'his', 'how', 'however', 'hundred', 'i', 'ie', 'if', 'in', 'inc', 'indeed',\n",
    "             'interest', 'into', 'is', 'it', 'its', 'itself', 'just', 'keep', 'last', 'latter', 'latterly', 'least', 'less',\n",
    "             'ltd', 'made', 'many', 'may', 'me', 'meanwhile', 'might', 'mill', 'mine', 'more', 'moreover', 'most', 'mostly',\n",
    "             'move', 'much', 'must', 'my', 'myself', 'name', 'namely', 'neither', 'never', 'nevertheless', 'next', 'nine',\n",
    "             'no', 'nobody', 'none', 'noone', 'nor', 'not', 'nothing', 'now', 'nowhere', 'of', 'off', 'often', 'on', 'once',\n",
    "             'one', 'only', 'onto', 'or', 'other', 'others', 'otherwise', 'our', 'ours', 'ourselves', 'out', 'over', 'own',\n",
    "             'part', 'per', 'perhaps', 'please', 'put', 'rather', 're', 's', 'same', 'see', 'seem', 'seemed', 'seeming',\n",
    "             'seems', 'serious', 'several', 'she', 'should', 'show', 'side', 'since', 'sincere', 'six', 'sixty', 'so', \n",
    "             'some', 'somehow', 'someone', 'something', 'sometime', 'sometimes', 'somewhere', 'still', 'such', 'system',\n",
    "             't', 'take', 'ten', 'than', 'that', 'the', 'their', 'theirs', 'them', 'themselves', 'then', 'thence', 'there',\n",
    "             'thereafter', 'thereby', 'therefore', 'therein', 'thereupon', 'these', 'they', 'thickv', 'thin', 'third', 'this',\n",
    "             'those', 'though', 'three', 'through', 'throughout', 'thru', 'thus', 'to', 'together', 'too', 'top', 'toward',\n",
    "             'towards', 'twelve', 'twenty', 'two', 'un', 'under', 'until', 'up', 'upon', 'us', 'very', 'via', 'was', 'we',\n",
    "             'well', 'were', 'what', 'whatever', 'when', 'whence', 'whenever', 'where', 'whereafter', 'whereas', 'whereby',\n",
    "             'wherein', 'whereupon', 'wherever', 'whether', 'which', 'while', 'whither', 'who', 'whoever', 'whole', 'whom',\n",
    "             'whose', 'why', 'will', 'with', 'within', 'without', 'would', 'yet', 'you', 'your', 'yours', 'yourself',\n",
    "             'yourselves']"
   ]
  },
  {
   "cell_type": "code",
   "execution_count": 4,
   "metadata": {},
   "outputs": [],
   "source": [
    "def retriveData():\n",
    "    #Extracting Information from documents in 20_newsgroups\n",
    "    X = [] \n",
    "    Y = [] \n",
    "    for category in os.listdir('C:/Users/Lakshay/Desktop/20_newsgroups'):\n",
    "        for document in os.listdir('C:/Users/Lakshay/Desktop/20_newsgroups/'+category): \n",
    "            with open('C:/Users/Lakshay/Desktop/20_newsgroups/'+category+'/'+document, \"r\") as f:\n",
    "                X.append((document,f.read()))\n",
    "                Y.append(category)\n",
    "    return X,Y\n",
    "X,Y=retriveData()"
   ]
  },
  {
   "cell_type": "code",
   "execution_count": 5,
   "metadata": {},
   "outputs": [],
   "source": [
    "X_train,X_test,Y_train,Y_test=model_selection.train_test_split(X,Y)"
   ]
  },
  {
   "cell_type": "code",
   "execution_count": 6,
   "metadata": {},
   "outputs": [],
   "source": [
    "def createDict(X_train):\n",
    "    #To create dictionary of words from the given documents with their corresponding frequency\n",
    "    vocab = {}\n",
    "    for i in range(len(X_train)):\n",
    "        word=X_train[i][1].lower()\n",
    "        #splitting the text into words\n",
    "        stripped=re.split(r'\\W+',word)\n",
    "        for word in stripped:\n",
    "            if (word.isalpha()) and (len(word)>2)  and (word not in stopwords): \n",
    "                if word in vocab:\n",
    "                    vocab[word]+=1\n",
    "                else:\n",
    "                    vocab[word]=1\n",
    "    return vocab\n",
    "vocab=createDict(X_train)"
   ]
  },
  {
   "cell_type": "code",
   "execution_count": 7,
   "metadata": {},
   "outputs": [
    {
     "data": {
      "image/png": "[encoded data removed]",
      "text/plain": [
       "<Figure size 432x288 with 1 Axes>"
      ]
     },
     "metadata": {
      "needs_background": "light"
     },
     "output_type": "display_data"
    }
   ],
   "source": [
    "def plotGraph(vocab):\n",
    "    #To create a sorted vocab dictionary & plotting the graph for the same\n",
    "    sorted_vocab=[(i,vocab[i]) for i in sorted(vocab, key=vocab.get, reverse=True)]\n",
    "    features=[]\n",
    "    features_freq=[]\n",
    "    for i in range(len(sorted_vocab)):\n",
    "        features.append(i)\n",
    "        features_freq.append(sorted_vocab[i][1])\n",
    "    plt.plot(features,features_freq)\n",
    "    plt.axis([0,10000,0,5000])\n",
    "    plt.grid()\n",
    "    plt.show()\n",
    "    return sorted_vocab\n",
    "sorted_vocab=plotGraph(vocab)"
   ]
  },
  {
   "cell_type": "code",
   "execution_count": 8,
   "metadata": {},
   "outputs": [],
   "source": [
    "#taking top 2000 words as our feature\n",
    "top_k_words=[sorted_vocab[i][0] for i in range(2000)]"
   ]
  },
  {
   "cell_type": "code",
   "execution_count": 9,
   "metadata": {},
   "outputs": [],
   "source": [
    "def generate_TrainTestDataset(X_train,X_test,top_k_words):\n",
    "    #To generate nD numpy array that contains of training & testing data with rows as no. of documents and column as top k words\n",
    "    X_train_dataset=np.zeros([len(X_train),len(top_k_words)],int)\n",
    "    X_test_dataset=np.zeros([len(X_test),len(top_k_words)],int)\n",
    "    for i in range(len(X_train)):\n",
    "        words=re.split(r'\\W+',X_train[i][1].lower())\n",
    "        for j in words:\n",
    "            if j in top_k_words:\n",
    "                X_train_dataset[i][top_k_words.index(j)]+=1\n",
    "\n",
    "    for i in range(len(X_test)):\n",
    "        words=re.split(r'\\W+',X_test[i][1].lower())\n",
    "        for j in words:\n",
    "            if j in top_k_words:\n",
    "                X_test_dataset[i][top_k_words.index(j)]+=1\n",
    "    return X_train_dataset,X_test_dataset\n",
    "\n",
    "X_train_dataset,X_test_dataset=generate_TrainTestDataset(X_train,X_test,top_k_words)"
   ]
  },
  {
   "cell_type": "code",
   "execution_count": 16,
   "metadata": {},
   "outputs": [
    {
     "name": "stdout",
     "output_type": "stream",
     "text": [
      "X_train_dataset:-\n",
      "[[ 7  1  0 ...  0  0  0]\n",
      " [ 3  1  0 ...  0  0  0]\n",
      " [ 9  3  1 ...  0  0  0]\n",
      " ...\n",
      " [10  4  1 ...  0  0  0]\n",
      " [13  2  4 ...  0  0  0]\n",
      " [12  5  7 ...  0  0  0]]\n",
      "\n",
      "...................\n",
      "\n",
      "X_test_dataset:-\n",
      "[[11  1  1 ...  0  0  0]\n",
      " [ 4  1  0 ...  0  0  0]\n",
      " [ 6  1  0 ...  0  0  0]\n",
      " ...\n",
      " [ 9  3  1 ...  0  0  0]\n",
      " [ 2  2  7 ...  0  0  0]\n",
      " [ 1  1  0 ...  0  0  0]]\n"
     ]
    }
   ],
   "source": [
    "print('X_train_dataset:-')\n",
    "print(X_train_dataset)\n",
    "print()\n",
    "print('...................')\n",
    "print()\n",
    "print('X_test_dataset:-')\n",
    "print(X_test_dataset)"
   ]
  },
  {
   "cell_type": "code",
   "execution_count": 11,
   "metadata": {},
   "outputs": [
    {
     "name": "stdout",
     "output_type": "stream",
     "text": [
      "Sklearn's score on training data : 0.8971127558845102\n"
     ]
    }
   ],
   "source": [
    "#Using sklearn's Multinomial NB\n",
    "clf = MultinomialNB()\n",
    "clf.fit(X_train_dataset,Y_train)\n",
    "Y_test_pred = clf.predict(X_test_dataset)\n",
    "sklearn_score_train = clf.score(X_train_dataset,Y_train)\n",
    "print(\"Sklearn's score on training data :\",sklearn_score_train)\n",
    "sklearn_score_test = clf.score(X_test_dataset,Y_test)"
   ]
  },
  {
   "cell_type": "code",
   "execution_count": 12,
   "metadata": {},
   "outputs": [
    {
     "name": "stdout",
     "output_type": "stream",
     "text": [
      "Sklearn's score on testing data : 0.8522\n",
      "Confusion Matrix for testing data :-\n",
      "[[192   1   0   0   0   0   0   1   1   0   0   0   0   0   0   3   0   3\n",
      "    0  53]\n",
      " [  1 169  16  13  25   3   3   0   1   1   0   0   6   2   0   0   0   0\n",
      "    0   0]\n",
      " [  0   3 198  16   5  17   6   0   0   0   0   0   2   0   0   0   0   0\n",
      "    0   0]\n",
      " [  1   2   8 200  35   2   3   1   0   0   0   1   1   0   0   0   0   0\n",
      "    0   0]\n",
      " [  0   4   4  18 232   0   6   0   0   0   0   0   2   0   1   0   0   0\n",
      "    0   0]\n",
      " [  0  13  31   6   6 180   4   0   0   0   0   0   2   0   1   0   0   0\n",
      "    0   0]\n",
      " [  0   1   1   3   2   0 235   4   3   0   0   0   2   0   1   0   0   0\n",
      "    0   0]\n",
      " [  0   0   0   0   0   0   6 213   6   1   2   0   6   0   0   0   1   0\n",
      "    2   0]\n",
      " [  0   0   0   0   0   1   2   8 243   1   0   0   0   0   0   0   0   0\n",
      "    0   0]\n",
      " [  0   0   0   0   0   0   1   4   4 226  10   0   0   0   1   0   0   0\n",
      "    0   0]\n",
      " [  0   0   0   0   0   0   0   2   3   9 236   0   0   0   1   0   0   0\n",
      "    0   0]\n",
      " [  0   2   1   0   0   1   1   1   1   1   0 213   4   0   0   0   1   0\n",
      "    0   0]\n",
      " [  0   2   0   4   8   0   8   6   1   0   0   1 209   3   1   0   0   0\n",
      "    0   0]\n",
      " [  0   1   0   0   5   1   5   1   4   2   0   0  11 225   1   0   0   0\n",
      "    2   0]\n",
      " [  0   2   0   0   1   0   1   0   2   3   0   0   5   1 262   0   0   0\n",
      "    1   1]\n",
      " [  0   0   0   0   0   0   0   0   0   0   0   0   0   0   0 249   0   0\n",
      "    0   0]\n",
      " [  0   0   0   0   0   0   0   0   3   0   0   2   0   0   1   0 236   0\n",
      "   14  12]\n",
      " [  0   0   0   1   0   0   2   1   4   0   1   0   0   0   0   0   2 217\n",
      "   20   1]\n",
      " [  0   1   0   0   0   0   0   0   1   1   1   4   0   0   1   0  33  10\n",
      "  171  29]\n",
      " [ 40   0   0   0   0   0   0   0   0   0   0   0   1   1   1   9   9   1\n",
      "   13 155]]\n",
      "Classification report for testing data :-\n",
      "                          precision    recall  f1-score   support\n",
      "\n",
      "             alt.atheism       0.82      0.76      0.79       254\n",
      "           comp.graphics       0.84      0.70      0.77       240\n",
      " comp.os.ms-windows.misc       0.76      0.80      0.78       247\n",
      "comp.sys.ibm.pc.hardware       0.77      0.79      0.78       254\n",
      "   comp.sys.mac.hardware       0.73      0.87      0.79       267\n",
      "          comp.windows.x       0.88      0.74      0.80       243\n",
      "            misc.forsale       0.83      0.93      0.88       252\n",
      "               rec.autos       0.88      0.90      0.89       237\n",
      "         rec.motorcycles       0.88      0.95      0.91       255\n",
      "      rec.sport.baseball       0.92      0.92      0.92       246\n",
      "        rec.sport.hockey       0.94      0.94      0.94       251\n",
      "               sci.crypt       0.96      0.94      0.95       226\n",
      "         sci.electronics       0.83      0.86      0.85       243\n",
      "                 sci.med       0.97      0.87      0.92       258\n",
      "               sci.space       0.96      0.94      0.95       279\n",
      "  soc.religion.christian       0.95      1.00      0.98       249\n",
      "      talk.politics.guns       0.84      0.88      0.86       268\n",
      "   talk.politics.mideast       0.94      0.87      0.90       249\n",
      "      talk.politics.misc       0.77      0.68      0.72       252\n",
      "      talk.religion.misc       0.62      0.67      0.64       230\n",
      "\n",
      "               micro avg       0.85      0.85      0.85      5000\n",
      "               macro avg       0.85      0.85      0.85      5000\n",
      "            weighted avg       0.86      0.85      0.85      5000\n",
      "\n"
     ]
    }
   ],
   "source": [
    "print(\"Sklearn's score on testing data :\",sklearn_score_test)\n",
    "print(\"Confusion Matrix for testing data :-\")\n",
    "print(confusion_matrix(Y_test,Y_test_pred))\n",
    "print(\"Classification report for testing data :-\")\n",
    "print(classification_report(Y_test, Y_test_pred))"
   ]
  },
  {
   "cell_type": "code",
   "execution_count": 13,
   "metadata": {},
   "outputs": [],
   "source": [
    "#Implementing Multinomial NB\n",
    "class MNB:\n",
    "    #creating class MNB\n",
    "    def __init__(self):\n",
    "        #To initialize the data members of class MNB\n",
    "        self.dict_category_count={}\n",
    "        self.classes = None\n",
    "    \n",
    "    def fit(self,x_train_dataset,y_train):\n",
    "        #To fit the training data into MNB \n",
    "        y_train=np.array(y_train)\n",
    "        self.dict_category_count[\"total_doc\"]=len(y_train)\n",
    "        self.classes=set(y_train)\n",
    "        classes=set(y_train)\n",
    "        for current_class in classes:\n",
    "            total_word=0\n",
    "            x_train_current=x_train_dataset[y_train==current_class]\n",
    "            rows_x_train_current=x_train_current.shape[0]\n",
    "            self.dict_category_count[current_class]={}\n",
    "            for feature in top_k_words:\n",
    "                feature_total_word=(x_train_current[:,top_k_words.index(feature)]).sum()\n",
    "                self.dict_category_count[current_class][feature]=feature_total_word\n",
    "                total_word+=feature_total_word\n",
    "            self.dict_category_count[current_class][\"word_in_class\"]=total_word\n",
    "            self.dict_category_count[current_class][\"length_class\"]=rows_x_train_current    \n",
    "\n",
    "    def probability(self,x,class_name):    \n",
    "        #finding probability of occurances of given class_name\n",
    "        prob=np.log(self.dict_category_count[class_name][\"length_class\"])-np.log(self.dict_category_count[\"total_doc\"])\n",
    "        feature=list(self.dict_category_count[class_name].keys())\n",
    "        x_total_words=len(feature)-2 \n",
    "        for j in range (x_total_words):\n",
    "            xj=x[j]\n",
    "            if xj==0:\n",
    "                current_prob=0\n",
    "            else:\n",
    "                #Extra addition part is Laplace Correction\n",
    "                num=self.dict_category_count[class_name][feature[j]]+1\n",
    "                den=self.dict_category_count[class_name][\"word_in_class\"]+x_total_words\n",
    "                current_prob=(np.log(num)-np.log(den))\n",
    "            prob+=current_prob\n",
    "        return prob\n",
    "\n",
    "    def predict_tup(self,x):\n",
    "        #To find the best class\n",
    "        first_run=True\n",
    "        best_prob=None\n",
    "        best_class=None\n",
    "        for current_class in self.classes:\n",
    "            if current_class==\"total_doc\":\n",
    "                continue\n",
    "            prob=self.probability(x,current_class)\n",
    "            #best_class will have maximum probability\n",
    "            if first_run or prob>best_prob:\n",
    "                best_prob=prob\n",
    "                first_run=False\n",
    "                best_class=current_class\n",
    "        return best_class\n",
    "\n",
    "    def predict(self,x_test):\n",
    "        #To predict the class\n",
    "        y_pred=[]\n",
    "        for x in x_test:\n",
    "            x_class=self.predict_tup(x)\n",
    "            y_pred.append(x_class)\n",
    "        return y_pred\n",
    "\n",
    "    def score(self,y_test,y_pred):\n",
    "        #To calculate the mean accuracy\n",
    "        count = 0\n",
    "        for i in range(len(y_pred)):\n",
    "            if y_pred[i] == y_test[i]:\n",
    "                count+=1\n",
    "        return count/len(y_pred)"
   ]
  },
  {
   "cell_type": "code",
   "execution_count": 14,
   "metadata": {},
   "outputs": [
    {
     "name": "stdout",
     "output_type": "stream",
     "text": [
      "Our score on testing data : 0.8726\n",
      "Confusion Matrix for testing data :-\n",
      "[[192   1   0   0   0   0   0   1   1   0   0   0   0   0   0   3   0   3\n",
      "    0  53]\n",
      " [  1 169  16  13  25   3   3   0   1   1   0   0   6   2   0   0   0   0\n",
      "    0   0]\n",
      " [  0   3 198  16   5  17   6   0   0   0   0   0   2   0   0   0   0   0\n",
      "    0   0]\n",
      " [  1   2   8 200  35   2   3   1   0   0   0   1   1   0   0   0   0   0\n",
      "    0   0]\n",
      " [  0   4   4  18 232   0   6   0   0   0   0   0   2   0   1   0   0   0\n",
      "    0   0]\n",
      " [  0  13  31   6   6 180   4   0   0   0   0   0   2   0   1   0   0   0\n",
      "    0   0]\n",
      " [  0   1   1   3   2   0 235   4   3   0   0   0   2   0   1   0   0   0\n",
      "    0   0]\n",
      " [  0   0   0   0   0   0   6 213   6   1   2   0   6   0   0   0   1   0\n",
      "    2   0]\n",
      " [  0   0   0   0   0   1   2   8 243   1   0   0   0   0   0   0   0   0\n",
      "    0   0]\n",
      " [  0   0   0   0   0   0   1   4   4 226  10   0   0   0   1   0   0   0\n",
      "    0   0]\n",
      " [  0   0   0   0   0   0   0   2   3   9 236   0   0   0   1   0   0   0\n",
      "    0   0]\n",
      " [  0   2   1   0   0   1   1   1   1   1   0 213   4   0   0   0   1   0\n",
      "    0   0]\n",
      " [  0   2   0   4   8   0   8   6   1   0   0   1 209   3   1   0   0   0\n",
      "    0   0]\n",
      " [  0   1   0   0   5   1   5   1   4   2   0   0  11 225   1   0   0   0\n",
      "    2   0]\n",
      " [  0   2   0   0   1   0   1   0   2   3   0   0   5   1 262   0   0   0\n",
      "    1   1]\n",
      " [  0   0   0   0   0   0   0   0   0   0   0   0   0   0   0 249   0   0\n",
      "    0   0]\n",
      " [  0   0   0   0   0   0   0   0   3   0   0   2   0   0   1   0 236   0\n",
      "   14  12]\n",
      " [  0   0   0   1   0   0   2   1   4   0   1   0   0   0   0   0   2 217\n",
      "   20   1]\n",
      " [  0   1   0   0   0   0   0   0   1   1   1   4   0   0   1   0  33  10\n",
      "  171  29]\n",
      " [ 40   0   0   0   0   0   0   0   0   0   0   0   1   1   1   9   9   1\n",
      "   13 155]]\n",
      "Classification report for testing data :-\n",
      "                          precision    recall  f1-score   support\n",
      "\n",
      "             alt.atheism       0.78      0.85      0.81       254\n",
      "           comp.graphics       0.77      0.76      0.77       240\n",
      " comp.os.ms-windows.misc       0.83      0.77      0.80       247\n",
      "comp.sys.ibm.pc.hardware       0.75      0.86      0.80       254\n",
      "   comp.sys.mac.hardware       0.82      0.88      0.85       267\n",
      "          comp.windows.x       0.87      0.77      0.82       243\n",
      "            misc.forsale       0.88      0.93      0.91       252\n",
      "               rec.autos       0.93      0.94      0.93       237\n",
      "         rec.motorcycles       0.97      0.98      0.97       255\n",
      "      rec.sport.baseball       0.97      0.96      0.96       246\n",
      "        rec.sport.hockey       0.97      0.97      0.97       251\n",
      "               sci.crypt       0.95      0.94      0.94       226\n",
      "         sci.electronics       0.82      0.92      0.87       243\n",
      "                 sci.med       0.96      0.91      0.93       258\n",
      "               sci.space       0.98      0.91      0.94       279\n",
      "  soc.religion.christian       0.97      1.00      0.98       249\n",
      "      talk.politics.guns       0.82      0.93      0.87       268\n",
      "   talk.politics.mideast       0.95      0.92      0.93       249\n",
      "      talk.politics.misc       0.78      0.67      0.72       252\n",
      "      talk.religion.misc       0.66      0.56      0.61       230\n",
      "\n",
      "               micro avg       0.87      0.87      0.87      5000\n",
      "               macro avg       0.87      0.87      0.87      5000\n",
      "            weighted avg       0.87      0.87      0.87      5000\n",
      "\n"
     ]
    }
   ],
   "source": [
    "#Using Multinomial NB\n",
    "clf2 = MNB()\n",
    "clf2.fit(X_train_dataset,Y_train)\n",
    "our_Y_test_pred = clf2.predict(X_test_dataset)\n",
    "our_score_test = clf2.score(our_Y_test_pred,Y_test)  \n",
    "print(\"Our score on testing data :\",our_score_test)\n",
    "print(\"Confusion Matrix for testing data :-\")\n",
    "print(confusion_matrix(Y_test,Y_test_pred))\n",
    "print(\"Classification report for testing data :-\")\n",
    "print(classification_report(Y_test, our_Y_test_pred))"
   ]
  },
  {
   "cell_type": "code",
   "execution_count": 15,
   "metadata": {},
   "outputs": [
    {
     "name": "stdout",
     "output_type": "stream",
     "text": [
      "Score of our model on test data: 0.8726\n",
      "Score of inbuilt sklearn's MultinomialNB on the same data : 0.8522\n"
     ]
    }
   ],
   "source": [
    "#Compare Results of your implementation of Multinomial Naive Bayes with one in Sklearn\n",
    "print(\"Score of our model on test data:\",our_score_test)\n",
    "print(\"Score of inbuilt sklearn's MultinomialNB on the same data :\",sklearn_score_test)"
   ]
  },
  {
   "cell_type": "markdown",
   "metadata": {},
   "source": [
    "### Self implemented model performed slightly better than inbuilt sklearn Multinomial Naive Bayes Model in text classification of 20_newsgroups."
   ]
  },
  {
   "cell_type": "code",
   "execution_count": null,
   "metadata": {},
   "outputs": [],
   "source": []
  }
 ],
 "metadata": {
  "kernelspec": {
   "display_name": "Python 3",
   "language": "python",
   "name": "python3"
  },
  "language_info": {
   "codemirror_mode": {
    "name": "ipython",
    "version": 3
   },
   "file_extension": ".py",
   "mimetype": "text/x-python",
   "name": "python",
   "nbconvert_exporter": "python",
   "pygments_lexer": "ipython3",
   "version": "3.7.3"
  }
 },
 "nbformat": 4,
 "nbformat_minor": 2
}
